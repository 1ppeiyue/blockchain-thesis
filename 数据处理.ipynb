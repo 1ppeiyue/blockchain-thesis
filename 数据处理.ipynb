{
 "cells": [
  {
   "cell_type": "code",
   "execution_count": 1,
   "metadata": {},
   "outputs": [
    {
     "name": "stderr",
     "output_type": "stream",
     "text": [
      "d:\\Anaconda3\\program\\anaconda3\\lib\\site-packages\\openpyxl\\styles\\stylesheet.py:226: UserWarning: Workbook contains no default style, apply openpyxl's default\n",
      "  warn(\"Workbook contains no default style, apply openpyxl's default\")\n"
     ]
    },
    {
     "name": "stdout",
     "output_type": "stream",
     "text": [
      "处理前数据行数: 264559\n",
      "处理后数据行数: 83133\n"
     ]
    }
   ],
   "source": [
    "# 财务杠杆季度数据变成年度数据\n",
    "import pandas as pd\n",
    "\n",
    "# 读取Excel文件\n",
    "df = pd.read_excel('风险水平191112002(仅供西南财经大学使用)/FI_T7.xlsx')\n",
    "\n",
    "# 筛选出Accper列末尾为12-31的数据\n",
    "df_filtered = df[df['Accper'].str.endswith('12-31')]\n",
    "\n",
    "# 保存筛选后的数据到新的Excel文件\n",
    "df_filtered.to_excel('FI_T7_filtered.xlsx', index=False)\n",
    "\n",
    "print(f\"处理前数据行数: {len(df)}\")\n",
    "print(f\"处理后数据行数: {len(df_filtered)}\")"
   ]
  },
  {
   "cell_type": "code",
   "execution_count": 10,
   "metadata": {},
   "outputs": [
    {
     "name": "stderr",
     "output_type": "stream",
     "text": [
      "d:\\Anaconda3\\program\\anaconda3\\lib\\site-packages\\openpyxl\\styles\\stylesheet.py:226: UserWarning: Workbook contains no default style, apply openpyxl's default\n",
      "  warn(\"Workbook contains no default style, apply openpyxl's default\")\n"
     ]
    },
    {
     "name": "stdout",
     "output_type": "stream",
     "text": [
      "处理前数据行数: 612896\n",
      "处理后数据行数: 15581\n",
      "\n",
      "处理后数据示例:\n",
      "     Stkcd      Reptdt  ShareholdingRatio\n",
      "33       1  2014-12-31            36.2960\n",
      "70       1  2015-12-31            34.7800\n",
      "110      1  2016-12-31            34.7775\n",
      "150      1  2017-12-31            48.0958\n",
      "190      1  2018-12-31            49.5649\n"
     ]
    }
   ],
   "source": [
    "# 筛选年度持股排名为1的数据\n",
    "import pandas as pd\n",
    "\n",
    "# 读取Excel文件，跳过第2行和第3行\n",
    "df = pd.read_excel('十大流通股股东文件190713955(仅供西南财经大学使用)/HLD_Negshr.xlsx', skiprows=[1,2])\n",
    "\n",
    "# 筛选12-31的数据并且排名为1的记录\n",
    "df_filtered = df[\n",
    "    (df['S0404a'] == 1) & \n",
    "    (df['Reptdt'].str.endswith('12-31', na=False))  # 修正na参数位置\n",
    "]\n",
    "\n",
    "# 保存结果\n",
    "df_filtered.to_excel('HLD_Negshr_rank1.xlsx', index=False)\n",
    "\n",
    "print(f\"处理前数据行数: {len(df)}\")\n",
    "print(f\"处理后数据行数: {len(df_filtered)}\")\n",
    "\n",
    "# 验证结果\n",
    "print(\"\\n处理后数据示例:\")\n",
    "print(df_filtered[['Stkcd', 'Reptdt', 'ShareholdingRatio']].head())"
   ]
  },
  {
   "cell_type": "code",
   "execution_count": 14,
   "metadata": {},
   "outputs": [
    {
     "name": "stderr",
     "output_type": "stream",
     "text": [
      "d:\\Anaconda3\\program\\anaconda3\\lib\\site-packages\\openpyxl\\styles\\stylesheet.py:226: UserWarning: Workbook contains no default style, apply openpyxl's default\n",
      "  warn(\"Workbook contains no default style, apply openpyxl's default\")\n"
     ]
    },
    {
     "name": "stdout",
     "output_type": "stream",
     "text": [
      "处理前数据行数: 881497\n",
      "处理后数据行数: 22552\n",
      "\n",
      "处理后数据示例:\n",
      "     Stkcd      Reptdt  ShareholdingRatio\n",
      "30       1  2019-12-31             49.565\n",
      "70       1  2020-12-31             49.565\n",
      "111      1  2021-12-31             49.565\n",
      "150      1  2022-12-31             49.565\n",
      "190      1  2023-12-31             49.565\n"
     ]
    }
   ],
   "source": [
    "# 筛选年度持股排名为1的数据part2\n",
    "import pandas as pd\n",
    "\n",
    "# 读取Excel文件\n",
    "df = pd.read_excel('十大流通股股东文件190746154(仅供西南财经大学使用)/HLD_Negshr.xlsx',skiprows=[1,2])\n",
    "\n",
    "# 筛选12-31的数据并且排名为1的记录\n",
    "df_filtered = df[\n",
    "    (df['S0404a'] == 1) & \n",
    "    (df['Reptdt'].str.endswith('12-31', na=False))  # 修正na参数位置\n",
    "]\n",
    "\n",
    "# 保存结果\n",
    "df_filtered.to_excel('HLD_Negshr_rank1_part2.xlsx', index=False)\n",
    "\n",
    "print(f\"处理前数据行数: {len(df)}\")\n",
    "print(f\"处理后数据行数: {len(df_filtered)}\")\n",
    "\n",
    "# 验证结果\n",
    "print(\"\\n处理后数据示例:\")\n",
    "print(df_filtered[['Stkcd', 'Reptdt', 'ShareholdingRatio']].head())"
   ]
  },
  {
   "cell_type": "code",
   "execution_count": 26,
   "metadata": {},
   "outputs": [
    {
     "name": "stdout",
     "output_type": "stream",
     "text": [
      "合并后的数据行数: 38133\n",
      "\n",
      "合并后数据示例:\n",
      "     Stkcd      Accper  ShareholdingRatio\n",
      "0   000001  2014-12-31            36.2960\n",
      "1   000001  2015-12-31            34.7800\n",
      "2   000001  2016-12-31            34.7775\n",
      "3   000001  2017-12-31            48.0958\n",
      "4   000001  2018-12-31            49.5649\n",
      "5   000001  2019-12-31            49.5650\n",
      "6   000001  2020-12-31            49.5650\n",
      "7   000001  2021-12-31            49.5650\n",
      "8   000001  2022-12-31            49.5650\n",
      "9   000001  2023-12-31            49.5650\n",
      "10  000002  2014-12-31            14.9080\n",
      "11  000002  2015-12-31            15.2300\n",
      "12  000002  2016-12-31            15.2436\n",
      "13  000002  2017-12-31            29.3755\n",
      "14  000002  2018-12-31            29.3755\n",
      "15  000002  2019-12-31            28.6920\n",
      "16  000002  2020-12-31            27.9126\n",
      "17  000002  2021-12-31            27.8942\n",
      "18  000002  2022-12-31            27.8800\n",
      "19  000002  2023-12-31            27.1800\n"
     ]
    }
   ],
   "source": [
    "# 将两个股东文件合并\n",
    "import pandas as pd\n",
    "\n",
    "# 读取两个 Excel 文件\n",
    "df1 = pd.read_excel('HLD_Negshr_rank1.xlsx')\n",
    "df2 = pd.read_excel('HLD_Negshr_rank1_part2.xlsx')\n",
    "\n",
    "# 合并两个 DataFrame\n",
    "df_combined = pd.concat([df1, df2])\n",
    "\n",
    "# 处理 Stkcd 列，使其变成六位数的文本格式\n",
    "df_combined['Stkcd'] = df_combined['Stkcd'].apply(lambda x: f\"{int(x):06d}\")\n",
    "\n",
    "# 改变日期的名称\n",
    "df_combined.rename(columns={'Reptdt': 'Accper'}, inplace=True)\n",
    "\n",
    "# 按照 Stkcd 和 Accper 排序\n",
    "df_combined = df_combined.sort_values(by=['Stkcd', 'Accper'])\n",
    "\n",
    "# 重置索引\n",
    "df_combined.reset_index(drop=True, inplace=True)\n",
    "\n",
    "# 保存合并后的结果到新的 Excel 文件\n",
    "df_combined.to_excel('HLD_Negshr_combined.xlsx', index=False)\n",
    "\n",
    "print(f\"合并后的数据行数: {len(df_combined)}\")\n",
    "\n",
    "# 验证结果\n",
    "print(\"\\n合并后数据示例:\")\n",
    "print(df_combined[['Stkcd', 'Accper',  'ShareholdingRatio']].head(20))"
   ]
  },
  {
   "cell_type": "code",
   "execution_count": 19,
   "metadata": {},
   "outputs": [
    {
     "name": "stderr",
     "output_type": "stream",
     "text": [
      "d:\\Anaconda3\\program\\anaconda3\\lib\\site-packages\\openpyxl\\styles\\stylesheet.py:226: UserWarning: Workbook contains no default style, apply openpyxl's default\n",
      "  warn(\"Workbook contains no default style, apply openpyxl's default\")\n"
     ]
    },
    {
     "name": "stdout",
     "output_type": "stream",
     "text": [
      "处理前数据行数: 41538\n",
      "处理后的数据行数: 41538\n",
      "\n",
      "处理后数据示例:\n",
      "   Stkcd      Accper       Rec      staff       Ocf      Tatr\n",
      "0      1  2014-12-31  3.489899  10.465073  0.011581  0.033573\n",
      "1      1  2015-12-31  3.267982  10.543682 -0.000728  0.038356\n",
      "2      1  2016-12-31  3.897749  10.515560  0.003721  0.036471\n",
      "3      1  2017-12-31  4.019521  10.389057 -0.036565  0.032565\n",
      "4      1  2018-12-31       NaN  10.452360 -0.016768  0.034142\n"
     ]
    }
   ],
   "source": [
    "# 处理财务指标文件\n",
    "import pandas as pd\n",
    "import numpy as np\n",
    "\n",
    "# 读取Excel文件，跳过第2行和第3行\n",
    "df = pd.read_excel('财务指标文件190252307(仅供西南财经大学使用)/FAR_Finidx.xlsx', skiprows=[1,2])\n",
    "\n",
    "# 创建新的指标\n",
    "df['Rec'] = df['A110601'] / df['B110101']\n",
    "df['staff'] = np.log(df['Nstaff'])\n",
    "df['Ocf'] = df['D100000'] / df['A100000']\n",
    "df['Tatr'] = df['B110101'] / df['A100000']\n",
    "\n",
    "# 只保留所需列\n",
    "df_filtered = df[['Stkcd', 'Accper', 'Rec', 'staff', 'Ocf', 'Tatr']]\n",
    "\n",
    "# 保存结果\n",
    "df_filtered.to_excel('FAR_Finidx_processed.xlsx', index=False)\n",
    "\n",
    "print(f\"处理前数据行数: {len(df)}\")\n",
    "print(f\"处理后的数据行数: {len(df_filtered)}\")\n",
    "\n",
    "# 验证结果\n",
    "print(\"\\n处理后数据示例:\")\n",
    "print(df_filtered.head())"
   ]
  },
  {
   "cell_type": "code",
   "execution_count": 22,
   "metadata": {},
   "outputs": [
    {
     "name": "stderr",
     "output_type": "stream",
     "text": [
      "d:\\Anaconda3\\program\\anaconda3\\lib\\site-packages\\openpyxl\\styles\\stylesheet.py:226: UserWarning: Workbook contains no default style, apply openpyxl's default\n",
      "  warn(\"Workbook contains no default style, apply openpyxl's default\")\n"
     ]
    },
    {
     "name": "stdout",
     "output_type": "stream",
     "text": [
      "处理前数据行数: 253938\n",
      "处理后的数据行数: 37991\n",
      "\n",
      "处理后数据示例:\n",
      "    Stkcd      Accper    TobinQ Indcd  Indnme\n",
      "70      1  2014-12-31  1.019698   J66  货币金融服务\n",
      "74      1  2015-12-31  1.003311   J66  货币金融服务\n",
      "78      1  2016-12-31  0.986751   J66  货币金融服务\n",
      "82      1  2017-12-31  1.001915   J66  货币金融服务\n",
      "86      1  2018-12-31  0.976896   J66  货币金融服务\n"
     ]
    }
   ],
   "source": [
    "# 处理托宾Q文件\n",
    "import pandas as pd\n",
    "\n",
    "# 读取Excel文件\n",
    "df = pd.read_excel('相对价值指标190331472(仅供西南财经大学使用)\\FI_T10.xlsx',skiprows=[1,2])\n",
    "\n",
    "# 创建新的指标\n",
    "df['TobinQ'] = df['F100901A']\n",
    "\n",
    "# 筛选12-31的数据并且是2014-2023的记录\n",
    "df['Year'] = df['Accper'].str[:4].astype(int)\n",
    "\n",
    "df_filtered = df[\n",
    "    (df['Year'] >= 2014) & (df['Year'] <= 2023) &   \n",
    "    (df['Accper'].str.endswith('12-31', na=False))  \n",
    "]\n",
    "\n",
    "# 只保留所需列\n",
    "df_filtered = df_filtered[['Stkcd', 'Accper', 'TobinQ','Indcd','Indnme']]\n",
    "\n",
    "# 保存结果\n",
    "df_filtered.to_excel('FI_T10_processed.xlsx', index=False)\n",
    "\n",
    "print(f\"处理前数据行数: {len(df)}\")\n",
    "print(f\"处理后的数据行数: {len(df_filtered)}\")\n",
    "\n",
    "# 验证结果\n",
    "print(\"\\n处理后数据示例:\")\n",
    "print(df_filtered.head())"
   ]
  },
  {
   "cell_type": "code",
   "execution_count": 47,
   "metadata": {},
   "outputs": [
    {
     "name": "stdout",
     "output_type": "stream",
     "text": [
      "合并后的数据行数: 62145\n",
      "\n",
      "合并后数据示例:\n",
      "   Stkcd      Accper    TobinQ Indcd  Indnme       Rec      staff       Ocf  \\\n",
      "0      1  2014-12-31  1.019698   J66  货币金融服务  3.489899  10.465073  0.011581   \n",
      "1      1  2015-12-31  1.003311   J66  货币金融服务  3.267982  10.543682 -0.000728   \n",
      "2      2  2014-12-31  1.064914   K70    房地产业  0.013016  10.612680  0.082069   \n",
      "3      2  2014-12-31  1.064914   K70    房地产业  0.013016  10.612680  0.082069   \n",
      "4      2  2015-12-31  1.192347   K70    房地产业  0.012996  10.652424  0.026249   \n",
      "\n",
      "       Tatr                      S0401a  ShareholdingRatio ShortName Typrep  \\\n",
      "0  0.033573  中国平安保险(集团)股份有限公司-集团本级-自有资金             36.296      平安银行      A   \n",
      "1  0.038356  中国平安保险(集团)股份有限公司-集团本级-自有资金             34.780      平安银行      A   \n",
      "2  0.286223                    华润股份有限公司             14.908       万科A      A   \n",
      "3  0.286223                    华润股份有限公司             14.908       万科A      B   \n",
      "4  0.316023                    华润股份有限公司             15.230       万科A      A   \n",
      "\n",
      "         Fl  \n",
      "0  1.000000  \n",
      "1  1.000000  \n",
      "2  1.025377  \n",
      "3  1.065151  \n",
      "4  1.014133  \n"
     ]
    }
   ],
   "source": [
    "# 合并所有处理后的文件\n",
    "import pandas as pd\n",
    "\n",
    "# 读取所有处理后的 Excel 文件\n",
    "df1 = pd.read_excel('FI_T10_processed.xlsx')\n",
    "df2 = pd.read_excel('FAR_Finidx_processed.xlsx')\n",
    "df3 = pd.read_excel('HLD_Negshr_combined.xlsx')\n",
    "df4 = pd.read_excel('FI_T7_filtered.xlsx')\n",
    "\n",
    "# 合并所有 DataFrame\n",
    "dfs = [df1, df2, df3, df4]\n",
    "df_merged = dfs[0]\n",
    "\n",
    "for df in dfs[1:]:\n",
    "    df_merged = pd.merge(df_merged, df, on=['Stkcd', 'Accper'], how='inner')\n",
    "\n",
    "# 按照 Stkcd 和 Accper 排序\n",
    "df_merged = df_merged.sort_values(by=['Stkcd', 'Accper'])\n",
    "\n",
    "# 一些更改\n",
    "# 删除 S0404a 列\n",
    "df_merged.drop(columns=['S0404a'], inplace=True)\n",
    "\n",
    "# 重命名 F070101B 列为 Fl\n",
    "df_merged.rename(columns={'F070101B': 'Fl'}, inplace=True)\n",
    "\n",
    "# 保存合并后的结果到新的 Excel 文件\n",
    "df_merged.to_excel('merged_processed_data.xlsx', index=False)\n",
    "\n",
    "print(f\"合并后的数据行数: {len(df_merged)}\")\n",
    "\n",
    "# 验证结果\n",
    "print(\"\\n合并后数据示例:\")\n",
    "print(df_merged.head())"
   ]
  },
  {
   "cell_type": "code",
   "execution_count": 93,
   "metadata": {},
   "outputs": [
    {
     "name": "stdout",
     "output_type": "stream",
     "text": [
      "处理后数据行数: 240\n",
      "\n",
      "处理后数据示例:\n",
      "    Stkcd  股票简称  提取年份\n",
      "0  300638   广和通  2020\n",
      "1  002799  环球印务  2019\n",
      "2  000021   深科技   NaN\n",
      "3  300603  立昂技术  2023\n",
      "4  603825  华扬联众  2019\n"
     ]
    }
   ],
   "source": [
    "# 处理区块链概念股\n",
    "import pandas as pd\n",
    "\n",
    "# 读取Excel文件\n",
    "df = pd.read_excel('区块链概念股.xlsx')\n",
    "\n",
    "# 将证券代码列重命名为Stkcd\n",
    "df.rename(columns={'股票代码': 'Stkcd'}, inplace=True)\n",
    "\n",
    "# 将Stkcd列转换为六位数的文本格式\n",
    "df['Stkcd'] = df['Stkcd'].apply(lambda x: f\"{x.split('.')[0]:0>6}\")\n",
    "\n",
    "# 提取概念解析列中的20开头的四位数字\n",
    "df['提取年份'] = df['概念解析'].str.extract(r'(20\\d{2})')\n",
    "\n",
    "# 仅保留部分列\n",
    "df_filtered = df[['Stkcd', '股票简称',  '提取年份']]\n",
    "\n",
    "# 删除最后一行\n",
    "df_filtered = df_filtered.drop(df_filtered.index[-1])\n",
    "\n",
    "# 保存结果到新的Excel文件\n",
    "df_filtered.to_excel('区块链概念股_processed.xlsx', index=False)\n",
    "print(f\"处理后数据行数: {len(df_filtered)}\")\n",
    "\n",
    "# 验证结果\n",
    "print(\"\\n处理后数据示例:\")\n",
    "print(df_filtered.head())"
   ]
  },
  {
   "cell_type": "code",
   "execution_count": 94,
   "metadata": {},
   "outputs": [
    {
     "data": {
      "text/html": [
       "<div>\n",
       "<style scoped>\n",
       "    .dataframe tbody tr th:only-of-type {\n",
       "        vertical-align: middle;\n",
       "    }\n",
       "\n",
       "    .dataframe tbody tr th {\n",
       "        vertical-align: top;\n",
       "    }\n",
       "\n",
       "    .dataframe thead th {\n",
       "        text-align: right;\n",
       "    }\n",
       "</style>\n",
       "<table border=\"1\" class=\"dataframe\">\n",
       "  <thead>\n",
       "    <tr style=\"text-align: right;\">\n",
       "      <th></th>\n",
       "      <th>Stkcd</th>\n",
       "      <th>股票简称</th>\n",
       "      <th>提取年份</th>\n",
       "    </tr>\n",
       "  </thead>\n",
       "  <tbody>\n",
       "    <tr>\n",
       "      <th>2</th>\n",
       "      <td>000021</td>\n",
       "      <td>深科技</td>\n",
       "      <td>NaN</td>\n",
       "    </tr>\n",
       "    <tr>\n",
       "      <th>144</th>\n",
       "      <td>000034</td>\n",
       "      <td>神州数码</td>\n",
       "      <td>2020</td>\n",
       "    </tr>\n",
       "    <tr>\n",
       "      <th>239</th>\n",
       "      <td>000040</td>\n",
       "      <td>ST旭蓝</td>\n",
       "      <td>2018</td>\n",
       "    </tr>\n",
       "    <tr>\n",
       "      <th>217</th>\n",
       "      <td>000061</td>\n",
       "      <td>农产品</td>\n",
       "      <td>2020</td>\n",
       "    </tr>\n",
       "    <tr>\n",
       "      <th>220</th>\n",
       "      <td>000063</td>\n",
       "      <td>中兴通讯</td>\n",
       "      <td>2024</td>\n",
       "    </tr>\n",
       "  </tbody>\n",
       "</table>\n",
       "</div>"
      ],
      "text/plain": [
       "      Stkcd  股票简称  提取年份\n",
       "2    000021   深科技   NaN\n",
       "144  000034  神州数码  2020\n",
       "239  000040  ST旭蓝  2018\n",
       "217  000061   农产品  2020\n",
       "220  000063  中兴通讯  2024"
      ]
     },
     "execution_count": 94,
     "metadata": {},
     "output_type": "execute_result"
    }
   ],
   "source": [
    "# 按照Stkcd降序排列\n",
    "df_filtered = df_filtered.sort_values(by='Stkcd', ascending=True)\n",
    "df_filtered.head()"
   ]
  },
  {
   "cell_type": "code",
   "execution_count": 95,
   "metadata": {},
   "outputs": [
    {
     "name": "stdout",
     "output_type": "stream",
     "text": [
      "提取年份缺失值数量: 98\n"
     ]
    }
   ],
   "source": [
    "# 查看提取年份列中有多少个缺失值\n",
    "missing_years = df[df['提取年份'].isnull()]\n",
    "\n",
    "print(f\"提取年份缺失值数量: {missing_years.shape[0]}\")"
   ]
  },
  {
   "cell_type": "code",
   "execution_count": 84,
   "metadata": {},
   "outputs": [
    {
     "name": "stdout",
     "output_type": "stream",
     "text": [
      "                   Stkcd       股票简称\n",
      "2                 000021        深科技\n",
      "5                 300469       信息发展\n",
      "6                 002908       德生科技\n",
      "7                 002707       众信旅游\n",
      "10                600070      *ST富润\n",
      "..                   ...        ...\n",
      "233               300550       和仁科技\n",
      "234               002123       梦网科技\n",
      "236               002168       ST惠程\n",
      "237               600556        天下秀\n",
      "240  数据来源于：i问财网站（iwencai  undefined\n",
      "\n",
      "[98 rows x 2 columns]\n"
     ]
    }
   ],
   "source": [
    "print(missing_years[['Stkcd', '股票简称']])"
   ]
  },
  {
   "cell_type": "code",
   "execution_count": 133,
   "metadata": {},
   "outputs": [
    {
     "name": "stdout",
     "output_type": "stream",
     "text": [
      "合并后的数据行数: 1676\n",
      "\n",
      "合并后数据示例:\n",
      "       Stkcd      Accper     TobinQ Indcd            Indnme       Rec  \\\n",
      "28    000021  2014-12-31   1.380557   C39  计算机、通信和其他电子设备制造业  0.135148   \n",
      "30    000021  2015-12-31   1.873610   C39  计算机、通信和其他电子设备制造业  0.106041   \n",
      "32    000021  2016-12-31   1.731243   C39  计算机、通信和其他电子设备制造业  0.149267   \n",
      "34    000021  2017-12-31   1.504594   C39  计算机、通信和其他电子设备制造业  0.114749   \n",
      "36    000021  2018-12-31   1.133235   C39  计算机、通信和其他电子设备制造业  0.096513   \n",
      "38    000021  2019-12-31   1.585456   C39  计算机、通信和其他电子设备制造业  0.139489   \n",
      "40    000021  2020-12-31   1.922159   C39  计算机、通信和其他电子设备制造业  0.198990   \n",
      "41    000021  2021-12-31   1.489517   C39  计算机、通信和其他电子设备制造业  0.169427   \n",
      "43    000021  2022-12-31   1.169652   C39  计算机、通信和其他电子设备制造业  0.166757   \n",
      "45    000021  2023-12-31   1.456895   NaN               NaN  0.259754   \n",
      "1983  000034  2014-12-31   5.697509   S90                综合  0.045391   \n",
      "1985  000034  2015-12-31  21.818693   S90                综合  0.050570   \n",
      "1987  000034  2016-12-31   1.383818   F51               批发业  0.163907   \n",
      "1988  000034  2018-12-31   1.104271   F51               批发业  0.105130   \n",
      "1990  000034  2019-12-31   1.215227   F51               批发业  0.081103   \n",
      "1992  000034  2020-12-31   1.232260   F51               批发业  0.081004   \n",
      "1994  000034  2021-12-31   1.080481   F51               批发业  0.068183   \n",
      "1996  000034  2022-12-31   1.131458   F51               批发业  0.075349   \n",
      "1998  000034  2023-12-31   1.197113   NaN               NaN  0.094408   \n",
      "3313  000040  2014-12-31   1.420799   K70              房地产业  0.061100   \n",
      "\n",
      "          staff       Ocf      Tatr     Top1 ShortName Typrep        Fl  股票简称  \\\n",
      "28     9.770299 -0.006857  1.134137  44.5090      长城开发      A  0.272757   深科技   \n",
      "30     9.927009  0.034208  1.067556  44.5100       深科技      A  0.570023   深科技   \n",
      "32    10.512900  0.030428  1.281907  44.5100       深科技      A  1.126438   深科技   \n",
      "34    10.111558  0.043355  0.853616  44.5088       深科技      A  1.032741   深科技   \n",
      "36     9.997615  0.027078  1.027972  44.5088       深科技      A  0.757251   深科技   \n",
      "38    10.298094 -0.054200  0.712301  43.5088       深科技      A  0.681396   深科技   \n",
      "40    10.205479  0.144328  0.679851  36.6053       深科技      A  1.241639   深科技   \n",
      "41    10.200513  0.032075  0.604884  34.5100       深科技      A  0.971430   深科技   \n",
      "43     9.785211  0.032204  0.576569  34.5100       深科技      A  0.471660   深科技   \n",
      "45     9.755046  0.073120  0.519497  34.5100       深科技      A  1.020175   深科技   \n",
      "1983   6.982863 -0.060981  1.093565  21.8750      深信泰丰      A  1.008076  神州数码   \n",
      "1985   6.841615 -0.030139  1.022444  21.8750      深信泰丰      A  0.991399  神州数码   \n",
      "1987   8.346879  0.020302  2.371278  12.2595      神州数码      A  1.837337  神州数码   \n",
      "1988   8.349484  0.013875  3.149759  12.2595      神州数码      A  2.019313  神州数码   \n",
      "1990   8.311398  0.050972  2.949938  12.2595      神州数码      A  1.526348  神州数码   \n",
      "1992   8.427050  0.047473  2.999292  11.6799      神州数码      A  1.235093  神州数码   \n",
      "1994   8.558335 -0.004008  3.141534   8.2157      神州数码      A  1.543106  神州数码   \n",
      "1996   8.571492  0.020799  2.881131   8.9063      神州数码      A  1.326126  神州数码   \n",
      "1998   8.728102 -0.003373  2.664924   8.0021      神州数码      A  1.251552  神州数码   \n",
      "3313   6.990257 -0.015955  0.242759  19.7960      宝安地产      A  1.474825  ST旭蓝   \n",
      "\n",
      "        提取年份  Year  DID  \n",
      "28       NaN  2014    0  \n",
      "30       NaN  2015    0  \n",
      "32       NaN  2016    0  \n",
      "34       NaN  2017    0  \n",
      "36       NaN  2018    0  \n",
      "38       NaN  2019    0  \n",
      "40       NaN  2020    0  \n",
      "41       NaN  2021    0  \n",
      "43       NaN  2022    0  \n",
      "45       NaN  2023    0  \n",
      "1983  2020.0  2014    0  \n",
      "1985  2020.0  2015    0  \n",
      "1987  2020.0  2016    0  \n",
      "1988  2020.0  2018    0  \n",
      "1990  2020.0  2019    0  \n",
      "1992  2020.0  2020    1  \n",
      "1994  2020.0  2021    1  \n",
      "1996  2020.0  2022    1  \n",
      "1998  2020.0  2023    1  \n",
      "3313  2018.0  2014    0  \n"
     ]
    }
   ],
   "source": [
    "# 合并区块链概念股数据\n",
    "import pandas as pd\n",
    "\n",
    "# 读取两个 Excel 文件\n",
    "df1 = pd.read_excel('merged_processed_data.xlsx')\n",
    "df2 = pd.read_excel('区块链概念股_processed.xlsx')\n",
    "\n",
    "# 将Stkcd列转换为六位数的文本格式\n",
    "df1['Stkcd'] = df1['Stkcd'].apply(lambda x: f\"{int(x):06d}\")\n",
    "df2['Stkcd'] = df2['Stkcd'].apply(lambda x: f\"{int(x):06d}\")\n",
    "\n",
    "# 合并两个 DataFrame\n",
    "df_merged = pd.merge(df1, df2, on='Stkcd', how='right')\n",
    "\n",
    "# 按照 Stkcd 和 Accper 排序\n",
    "df_merged = df_merged.sort_values(by=['Stkcd', 'Accper'])\n",
    "\n",
    "# 删除列\n",
    "df_merged.drop(columns=['现价(元)', 'a股流通市值(元)\\n2025.01.20', '涨跌幅(%)', '概念资讯', '概念解析',\n",
    "       '所属概念数量(个)','所属概念','S0401a'], inplace=True, errors='ignore')\n",
    "\n",
    "# 只保留'Typrep'=A的记录\n",
    "df_merged = df_merged[df_merged['Typrep'] == 'A']\n",
    "\n",
    "# 改名\n",
    "df_merged.rename(columns={'ShareholdingRatio': 'Top1'}, inplace=True)\n",
    "\n",
    "# 提取年\n",
    "df_merged['Year'] = df_merged['Accper'].str[:4].astype(int)\n",
    "\n",
    "# 如果Year的值大于等于提取年份的值，就取值1，否则取值0\n",
    "df_merged['DID'] = (df_merged['Year'] >= df_merged['提取年份']).astype(int)\n",
    "\n",
    "# 保存合并后的结果到新的 Excel 文件\n",
    "df_merged.to_excel('merged_blockchain_data.xlsx', index=False)\n",
    "\n",
    "# 输出合并后的数据行数\n",
    "print(f\"合并后的数据行数: {len(df_merged)}\")\n",
    "\n",
    "# 验证结果\n",
    "print(\"\\n合并后数据示例:\")\n",
    "print(df_merged.head(20))"
   ]
  },
  {
   "cell_type": "code",
   "execution_count": 129,
   "metadata": {},
   "outputs": [
    {
     "data": {
      "text/plain": [
       "Index(['Stkcd', 'Accper', 'TobinQ', 'Indcd', 'Indnme', 'Rec', 'staff', 'Ocf',\n",
       "       'Tatr', 'Top1', 'ShortName', 'Typrep', 'Fl', '股票简称', '提取年份', 'Year',\n",
       "       'DID'],\n",
       "      dtype='object')"
      ]
     },
     "execution_count": 129,
     "metadata": {},
     "output_type": "execute_result"
    }
   ],
   "source": [
    "df_merged.columns"
   ]
  }
 ],
 "metadata": {
  "kernelspec": {
   "display_name": "base",
   "language": "python",
   "name": "python3"
  },
  "language_info": {
   "codemirror_mode": {
    "name": "ipython",
    "version": 3
   },
   "file_extension": ".py",
   "mimetype": "text/x-python",
   "name": "python",
   "nbconvert_exporter": "python",
   "pygments_lexer": "ipython3",
   "version": "3.9.13"
  }
 },
 "nbformat": 4,
 "nbformat_minor": 2
}
